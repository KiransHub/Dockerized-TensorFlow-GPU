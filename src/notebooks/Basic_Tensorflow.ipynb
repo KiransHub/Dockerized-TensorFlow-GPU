{
  "nbformat": 4,
  "nbformat_minor": 0,
  "metadata": {
    "colab": {
      "name": "Basic Tensorflow.ipynb",
      "version": "0.3.2",
      "provenance": [],
      "collapsed_sections": []
    },
    "kernelspec": {
      "name": "python3",
      "display_name": "Python 3"
    },
    "accelerator": "GPU"
  },
  "cells": [
    {
      "metadata": {
        "id": "N9ruR08stT9B",
        "colab_type": "text"
      },
      "cell_type": "markdown",
      "source": [
        "<center>\n",
        "  <h1>Building an Artificial Brain from Your Bedroom</h1>\n",
        "\n",
        "</center>\n",
        "\n",
        "# Introduction\n",
        "\n",
        "I assume that you have some basic programming knowledge but don't be dissuaded if that's not the case. I go to great lengths to break everything down. The path to enlightenment lies ahead so strap yourself in and enjoy the ride.\n",
        "\n",
        "The title of this article is perhaps a little bit misleading. Many people mistakenly think that neural networks are heavily modelled on the human brain. Whilst It's true that when the algorithm was conceived it was based on our rudimentary understanding of brain cells at the time; the concept of neural networks has somewhat evolved, alongside our grasp of the inner workings of the mind. Neural Networks are often portrayed in the media as a futuristic technology but the concept was actually invented back in 1958 by psychologist Frank Rosenblatt.</p>\n",
        "\n",
        "When I started learning about Artificial Neural Networks (ANNs) it seemed like some sort of magic that only the likes of Einstein could comprehend. Truth be told, the moment ANNs started to make sense to me drew parallels with my discovery that Santa Clause was a fictional character (and it was my dad eating the mince pies, drinking the whiskey and putting rudolphs carrot back in the fridge). Be warned, as your understanding of neural networks matures the magic will fade.\n",
        "\n",
        "Personally neural networks took me a long time to grasp. This was partly due to high level analogies and abstract illustrations like the one shown below:\n",
        "\n",
        "<center>\n",
        "![an example of a neural network illustration](https://preview.ibb.co/jpCnWT/neural_network.png)\n",
        "</center>\n",
        "\n",
        "Who in their right mind thought this diagram would be a good starting point? As though you'd look at these circles and lines and suddenly you have a firm grasp of the concept!?\n",
        "\n",
        "My goal is to take you on a crash course through the first few months of my own learning. I will be \n",
        "\n",
        "<br><br>\n",
        "<center>\n",
        "![a meme from the film The Matrix](https://memegenerator.net/img/instances/66993963/i-know-convolutional-neural-networks.jpg =200x200)\n",
        "</center>\n",
        "<br>\n",
        "\n",
        "Neural networks actually rely on matrix maths for efficiency, so in future, I won't be making any further Matrix jokes or puns. \n",
        "I intend to take you on a journey through the last 5. \n",
        "\n",
        "<br>\n",
        "Finally, neural networks are not the only machine learning algorithm but they have recently gained popularity as they have been shown to out perform most other computations when given a large amount of training data and processing power. \n",
        "<br><br>\n",
        "In some circumstances this outweighs the cost of their complexity and code maintenance overhead; with that said it is always advisable to consider as many viable options as possible. Always choose the simplest method for solving your problem. If it can be solve using simple logic there may not even be a need to consider machine learning as an option. \n",
        "\n",
        "At this point I'd like to mention that the terms artificial intelligence and machine learning are not synonymous. Artificial intelligence describes systems that simulate life. This can take many different forms and online machine learning it may not nessisarily involve adaptation through training against example data or experience. Machine learning fits a model to a problem by tuning parameters (these are weights in the case of ANNs).\n"
      ]
    },
    {
      "metadata": {
        "id": "tTIT7euOMn_u",
        "colab_type": "text"
      },
      "cell_type": "markdown",
      "source": [
        "## Drawing Lines Through Data\n",
        "\n",
        "The simplest way to think about machine learning is that it is a means of drawing lines through data points. There are two ways to do this depending on the type of problem you are trying to solve. Problems are often segregated into two distinct types; classification and regression. Let's take a look at the differences between them.\n",
        "\n",
        "\n",
        "\n",
        "<br><br>\n",
        "\n",
        "![alt text](https://image.ibb.co/hy8v5y/cheat_sheet.png)\n",
        "\n",
        "<font color=\"red\">\n",
        "Consider a non-linear regression where sweetness increases and then decreases. \n",
        "  \n",
        "  (colour blindness test.. accessibility)\n",
        "</font>\n",
        "\n",
        "\n",
        "\n",
        "\n",
        "### Classification\n",
        "\n",
        "A Classification problem can be described as having two or more descrete classes of data. \n",
        "\n",
        "The simplest way to think of a classification problem is to draw a line between each class of datapoints. Then the class of new data can be determined by which side of the line the datum falls on. In reality when training a model to fit data a line may not necessarily be straight. The data may also be multi dimensional (several columns of data) but for simplicity let's think of this as a line for now. \n",
        " \n",
        "When writing a classifier, the optimal line should be drawn through the middle of the datapoints for each classification with the greatest distance possible between each class. \n",
        "\n",
        "\n",
        "### Regression\n",
        "In the same way that you can imagine classification as a line separating points, then regression is a line of best fit through points\" -- ultimately classification predicts classes (discrete and usually non-ordered) and regression predicts values (continuous and normally ordered).\n",
        "\n",
        "\n"
      ]
    },
    {
      "metadata": {
        "id": "cQoG8RckDLiG",
        "colab_type": "text"
      },
      "cell_type": "markdown",
      "source": [
        "\n",
        "### Let's see an example:\n",
        "\n",
        "\n"
      ]
    },
    {
      "metadata": {
        "id": "36Injr4wbhrI",
        "colab_type": "text"
      },
      "cell_type": "markdown",
      "source": [
        "## Functions\n",
        "\n",
        "Both mathematics and programming have the concept of a function. It takes in parameters (x) and returns a value (y) based on those input parameters.\n",
        "\n",
        "For example we could look at a function that simply squares a value that is passed in as its parameter:\n",
        "\n",
        "\n",
        "** In Python:**\n",
        "\n",
        "``` python\n",
        "def double(x):\n",
        "  return x * x; \n",
        "  \n",
        "```\n",
        "\n",
        "**As a maths equation:**\n",
        "\n",
        "\n",
        "\n",
        "\\begin{equation}\n",
        "\\Large\n",
        "y = f(x) = x^2\n",
        "\\end{equation}\n",
        "\n",
        "\n",
        "Neural networks are function approximation algorithms. They attempt to \"learn\" functions by observing examples of outputs for given inputs. How does a neural network learn to approximate a function? Remember that both classification and regression can be thought of as calculating how to best draw lines through data points. The output of a function were \"learning\" could provide us with the required datapoints. \n",
        "\n",
        "🍏 Link the previous examples to the idea of functions, i.e. you are trying to find an 'underlying' function that maps ripeness into sweetness\n",
        "\n",
        "\n",
        "## Plotting Functions On Graphs\n",
        "... TODO\n",
        "\n",
        "Andrew: Consider leaving out this part but you might want to mention that data isn't always 2D and that's where machine learning becomes useful. We draw things in 2d but the concepts will scale to higher dimensions. \n",
        "\n",
        "\n",
        "\n",
        "\n",
        "\n"
      ]
    },
    {
      "metadata": {
        "id": "cA21myTaeAmR",
        "colab_type": "text"
      },
      "cell_type": "markdown",
      "source": [
        "## Functions to Draw Lines\n",
        "\n",
        "\\begin{equation}\n",
        "\\Large\n",
        "y = f(x) = mx+c\n",
        "\\end{equation}\n",
        "\n"
      ]
    },
    {
      "metadata": {
        "id": "tiVhOFGDeE03",
        "colab_type": "code",
        "colab": {
          "base_uri": "https://localhost:8080/",
          "height": 393
        },
        "cellView": "both",
        "outputId": "1712f641-b2bf-43e5-d75a-31066184a7e4"
      },
      "cell_type": "code",
      "source": [
        "#@title You can adjust these values using the sliders. { run: \"auto\", vertical-output: true }\n",
        "m = 17 #@param {type:\"slider\", min:0, max:30, step:1}\n",
        "C = 6 #@param {type:\"slider\", min:0, max:100, step:1}\n",
        "\n",
        "y = []\n",
        "\n",
        "for x in range(0,10):\n",
        "  y.append(m * x + C)\n",
        "\n",
        "print(y)\n",
        "import matplotlib.pyplot as plt\n",
        "plt.plot([0,1,2,3,4,5,6,7,8,9],y)\n",
        "plt.title(\"Cost over Epocs\")\n",
        "plt.ylabel('Cost')\n",
        "plt.xlabel('Training Epocs')\n",
        "\n",
        "# Set the limits of the plot\n",
        "plt.xlim(0, 25)\n",
        "plt.ylim(0, 200)\n",
        "\n",
        "# Don't mess with the limits!\n",
        "plt.autoscale(False)\n",
        "              \n",
        "plt.show()\n",
        "\n",
        "\n"
      ],
      "execution_count": 28,
      "outputs": [
        {
          "output_type": "stream",
          "text": [
            "[6, 23, 40, 57, 74, 91, 108, 125, 142, 159]\n"
          ],
          "name": "stdout"
        },
        {
          "output_type": "display_data",
          "data": {
            "image/png": "[encoded data removed]",
            "text/plain": [
              "<matplotlib.figure.Figure at 0x7fdef6aff9b0>"
            ]
          },
          "metadata": {
            "tags": []
          }
        }
      ]
    },
    {
      "metadata": {
        "id": "qOi4AKoL56ZY",
        "colab_type": "text"
      },
      "cell_type": "markdown",
      "source": [
        "Note: There's a little problem with Axis on the graph above the line may apear not to be moving because matplot lib is being super helpful and adjusting the axis autmatically for us. I'll take a look at this at some point."
      ]
    },
    {
      "metadata": {
        "id": "oxfWYgUxeFAF",
        "colab_type": "text"
      },
      "cell_type": "markdown",
      "source": [
        "\n",
        "### The XOR Function\n",
        "\n",
        "XOR (Exclusive OR) is a function takes in two parameters and gives an output. The XOR function will return 1 if either x1 or x2 is 1 (but not both). In short both x1 and x2 must be different for the algorithm to return a value of 1.\n",
        "\n",
        "\n",
        "***Here's a table of examples:***\n",
        "\n",
        "| x1    | x2   |  XOR  \n",
        "|--------|--------|-----------\n",
        "| 0      | 0     |     0\n",
        "| 1      | 0     |     1\n",
        "| 0      | 1     |     1\n",
        "| 1      | 1     |     0\n",
        "\n",
        "\n",
        "We could represent both parameters x1 and x2 as a vector/list/array (semantics dependant on the language you're familiar with).\n",
        "\n",
        "\\begin{align}\n",
        "\\large\n",
        "y = f(\\begin{bmatrix}\n",
        "    x_{1}       & x_{2}\n",
        "\\end{bmatrix})\n",
        "\\end{align}\n",
        "\n",
        "\n",
        "### Yup I know that this is a terrible example of a machine learning problem!\n",
        "\n",
        "So given the title, why have a chosen this as an example you ask? The answer is, purely, for simplicity. The XOR function is a bad choise for a neural network firstly because it could be solved with a single if statement: \n",
        "\n",
        "``` \n",
        "if x1 != x2:\n",
        "   return true\n",
        "else:\n",
        "   return false\n",
        "\n",
        "```\n",
        "\n",
        "This is concise and it answers the question with certainty. Machine learning should be used with contiueous data where where have many more examples and there is a level of uncertainty or a data correllation that you're unsure of and would like the network to find.\n",
        "\n",
        "Solving such a small dataset will surely lead to overfitting but as this is a bounded problem overfitting isn't an issue. I'm purely using this simple example to demonstrate how to use tensorflow to solve a problem. Real world problems should be much more complex to warrant the use of a machine learning algorithm.\n",
        "\n",
        "\n",
        "## Matrix Addition and Multiplication\n",
        "\n",
        "\n",
        "\n",
        "## Gradient Descent\n",
        "\n",
        "\n",
        "### What is the Gradient of a Function?\n",
        "\n",
        "As discussed previously functions and lines can be thought of synonymously. "
      ]
    },
    {
      "metadata": {
        "id": "Z8sFQyKMtWtT",
        "colab_type": "text"
      },
      "cell_type": "markdown",
      "source": [
        "We're going to need some libraries\n"
      ]
    },
    {
      "metadata": {
        "id": "QM0vZyHGtYTn",
        "colab_type": "code",
        "colab": {}
      },
      "cell_type": "code",
      "source": [
        "import tensorflow as tf\n",
        "import numpy as np\n"
      ],
      "execution_count": 0,
      "outputs": []
    },
    {
      "metadata": {
        "id": "i7dWi_VUZfVe",
        "colab_type": "text"
      },
      "cell_type": "markdown",
      "source": [
        "Define our testing data. labels and features.\n"
      ]
    },
    {
      "metadata": {
        "id": "MQd_c5wrZktW",
        "colab_type": "code",
        "colab": {}
      },
      "cell_type": "code",
      "source": [
        "features = np.array([\n",
        "    [0, 0], \n",
        "    [0, 1], \n",
        "    [1, 0], \n",
        "    [1, 1] \n",
        "], dtype=np.float32)\n",
        "\n",
        "\n",
        "\n",
        "labels = np.array([\n",
        "    [1, 0], # 0) first neuron = 0\n",
        "    [0, 1], # 1) second neuron = 1 (in output layer)\n",
        "    [0, 1], # 1) also 1\n",
        "    [1, 0]  # 0) also 0\n",
        "], dtype=np.float32)\n"
      ],
      "execution_count": 0,
      "outputs": []
    },
    {
      "metadata": {
        "id": "1OtXcozfqGc6",
        "colab_type": "code",
        "colab": {}
      },
      "cell_type": "code",
      "source": [
        ""
      ],
      "execution_count": 0,
      "outputs": []
    },
    {
      "metadata": {
        "id": "aputgOTAZqj3",
        "colab_type": "text"
      },
      "cell_type": "markdown",
      "source": [
        "create our first hidden layer"
      ]
    },
    {
      "metadata": {
        "id": "t0xwzd2VZsvI",
        "colab_type": "code",
        "colab": {}
      },
      "cell_type": "code",
      "source": [
        "x = tf.placeholder(tf.float32, [1, 2], name=\"inputs\")\n",
        "y = tf.placeholder(tf.float32, [1, 2], name=\"labels\")\n",
        "\n",
        "# TODO REPLACE WITH:\n",
        "# tf.random_uniform([2,2], -1, 1)\n",
        "\n",
        "h1W = tf.Variable(np.random.uniform(low= -1, high= 1, size=(2, 3)), dtype=tf.float32, name=\"hidden1\")\n",
        "h1b = tf.Variable(np.random.uniform(low= -1, high= 1, size=(1, 3)), dtype=tf.float32, name=\"bias1\")\n",
        "\n",
        "h1_wx_plus_b = tf.matmul(x, h1W) + h1b\n",
        "h1_output = tf.nn.relu(h1_wx_plus_b)\n",
        "\n"
      ],
      "execution_count": 0,
      "outputs": []
    },
    {
      "metadata": {
        "id": "fCdmZTKuZuXP",
        "colab_type": "text"
      },
      "cell_type": "markdown",
      "source": [
        "Create our second hidden layer"
      ]
    },
    {
      "metadata": {
        "id": "EwDvCZ7xZv2G",
        "colab_type": "code",
        "colab": {}
      },
      "cell_type": "code",
      "source": [
        "h2x = h1_output\n",
        "h2W = tf.Variable(np.random.uniform(low= -1, high= 1, size=(3, 4)), dtype=tf.float32, name=\"hidden2\")\n",
        "h2b = tf.Variable(np.random.uniform(low= -1, high= 1, size=(1, 4)), dtype=tf.float32, name=\"bias2\")\n",
        "\n",
        "h2_wx_plus_b = tf.matmul(h1_output, h2W) + h2b\n",
        "h2_output = tf.nn.relu(h2_wx_plus_b)\n"
      ],
      "execution_count": 0,
      "outputs": []
    },
    {
      "metadata": {
        "id": "Xy5I9Bz2dy4c",
        "colab_type": "text"
      },
      "cell_type": "markdown",
      "source": [
        "Define out output layer"
      ]
    },
    {
      "metadata": {
        "id": "5CW78Y-pd1G6",
        "colab_type": "code",
        "colab": {}
      },
      "cell_type": "code",
      "source": [
        "olx = h2_output\n",
        "olW = tf.Variable(np.random.uniform(low= -1, high= 1, size=(4, 2)), dtype=tf.float32, name=\"output\")\n",
        "olb = tf.Variable(np.random.uniform(low= -1, high= 1, size=(1, 2)), dtype=tf.float32, name=\"biasOutput\")\n",
        "\n",
        "ol_wx_plus_b = tf.matmul(olx, olW) + olb\n",
        "\n"
      ],
      "execution_count": 0,
      "outputs": []
    },
    {
      "metadata": {
        "id": "JoG4XKFGSl6g",
        "colab_type": "text"
      },
      "cell_type": "markdown",
      "source": [
        "Calculate losses:"
      ]
    },
    {
      "metadata": {
        "id": "8uMl4DjBSk8V",
        "colab_type": "code",
        "colab": {}
      },
      "cell_type": "code",
      "source": [
        "\n",
        "\n",
        "\n",
        "\n",
        "# loss & softmax at the same time (for efficiency)\n",
        "y_estimated = tf.nn.softmax(ol_wx_plus_b)\n",
        "\n",
        "losses = tf.nn.softmax_cross_entropy_with_logits_v2(\n",
        "  labels=y,\n",
        "  logits=y_estimated\n",
        ")\n"
      ],
      "execution_count": 0,
      "outputs": []
    },
    {
      "metadata": {
        "id": "RuK15Ds8Sv55",
        "colab_type": "code",
        "colab": {}
      },
      "cell_type": "code",
      "source": [
        "variables_to_update = [h1W, h1b, h2W, h2b, olW, olb]\n",
        "\n",
        "learning_rate = 0.01\n",
        "\n",
        "train_step = tf.train.AdamOptimizer(learning_rate, name='Optimizer').minimize(losses, var_list = variables_to_update)\n",
        " \n",
        "#train_step = tf.train.GradientDescentOptimizer(learning_rate).minimize(losses)\n",
        " "
      ],
      "execution_count": 0,
      "outputs": []
    },
    {
      "metadata": {
        "id": "zpgRJIQaZx0Z",
        "colab_type": "text"
      },
      "cell_type": "markdown",
      "source": [
        "Define our session"
      ]
    },
    {
      "metadata": {
        "id": "NmHqBS_zUyoz",
        "colab_type": "code",
        "colab": {
          "base_uri": "https://localhost:8080/",
          "height": 34
        },
        "outputId": "3aad8b98-d240-4258-9f98-55731614ad00"
      },
      "cell_type": "code",
      "source": [
        "label = labels[[0],:]\n",
        "\n",
        "print(label[0][0])"
      ],
      "execution_count": 9,
      "outputs": [
        {
          "output_type": "stream",
          "text": [
            "1.0\n"
          ],
          "name": "stdout"
        }
      ]
    },
    {
      "metadata": {
        "id": "ui7wQURCefJP",
        "colab_type": "code",
        "colab": {
          "base_uri": "https://localhost:8080/",
          "height": 85
        },
        "outputId": "1577ab1e-a73a-410d-9ef5-1b8fdb6820ae"
      },
      "cell_type": "code",
      "source": [
        "train_epocs = 400\n",
        "\n",
        "\n",
        "all_losses = []\n",
        "\n",
        "losses_for_all_epocs = []\n",
        "\n",
        "correct_predictions_over_time = []\n",
        "\n",
        "stop = False\n",
        "\n",
        "with tf.Session() as sess:\n",
        "\n",
        "  sess.run(tf.global_variables_initializer())\n",
        "\n",
        "  # Train the model. 😎 (Saftey Goggles On!)\n",
        "\n",
        "  for i in range(train_epocs):\n",
        "    \n",
        "    if(stop):\n",
        "        break\n",
        "    \n",
        "    for j in range(len(features)):\n",
        "\n",
        "      if(stop):\n",
        "        break\n",
        "      \n",
        "      input_data = features[[j],:] # =~ [features[i]]\n",
        "      label = labels[[j],:]\n",
        "\n",
        "\n",
        "      feed_dict = { \n",
        "\n",
        "          x:input_data,\n",
        "          y:label\n",
        "      }\n",
        " \n",
        "      currentLoss, _y_estimated, _ = sess.run([losses, y_estimated, train_step], feed_dict)\n",
        "      \n",
        "      all_losses.extend(currentLoss)\n",
        "      \n",
        "    current_loss = sum(all_losses)\n",
        "    losses_for_all_epocs.append(current_loss)\n",
        "    all_losses = []\n",
        "   \n",
        "  # Predict!\n",
        "  \n",
        "  for j in range(len(features)):\n",
        "    \n",
        "    input_data = features[[j],:] # =~ [features[i]]\n",
        "    label = labels[[j],:]\n",
        "\n",
        "    feed_dict = { \n",
        "        x:input_data,\n",
        "        y:label\n",
        "    }\n",
        "    \n",
        "    currentLoss, _y_estimated, _ = sess.run([losses, y_estimated, train_step], feed_dict)\n",
        "           \n",
        "    prediction = 0 if _y_estimated[0][0] > _y_estimated[0][1] else 1\n",
        "    actual = 0 if label[0][0] > label[0][1] else 1\n",
        "    \n",
        "    print(\"For {} prediction: {} actual {}\".format(input_data, prediction, actual))"
      ],
      "execution_count": 10,
      "outputs": [
        {
          "output_type": "stream",
          "text": [
            "For [[0. 0.]] prediction: 0 actual 0\n",
            "For [[0. 1.]] prediction: 1 actual 1\n",
            "For [[1. 0.]] prediction: 1 actual 1\n",
            "For [[1. 1.]] prediction: 0 actual 0\n"
          ],
          "name": "stdout"
        }
      ]
    },
    {
      "metadata": {
        "id": "ZrsBymlbzElD",
        "colab_type": "code",
        "colab": {
          "base_uri": "https://localhost:8080/",
          "height": 396
        },
        "outputId": "ee1e5436-252c-45b1-a6fb-68bd5647a447"
      },
      "cell_type": "code",
      "source": [
        "# cost over time.\n",
        "\n",
        "import matplotlib.pyplot as plt\n",
        "plt.plot(losses_for_all_epocs)\n",
        "plt.title(\"Cost over Epocs\")\n",
        "plt.ylabel('Cost')\n",
        "plt.xlabel('Training Epocs')\n",
        "plt.show()\n"
      ],
      "execution_count": 11,
      "outputs": [
        {
          "output_type": "display_data",
          "data": {
            "image/png": "[encoded data removed]",
            "text/plain": [
              "<matplotlib.figure.Figure at 0x7f3be523ef98>"
            ]
          },
          "metadata": {
            "tags": []
          }
        }
      ]
    },
    {
      "metadata": {
        "id": "oTm-axAzusFD",
        "colab_type": "code",
        "colab": {}
      },
      "cell_type": "code",
      "source": [
        ""
      ],
      "execution_count": 0,
      "outputs": []
    }
  ]
}